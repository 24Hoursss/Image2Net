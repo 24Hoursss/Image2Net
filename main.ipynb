{
 "cells": [
  {
   "metadata": {},
   "cell_type": "markdown",
   "source": "## Import",
   "id": "dfb0b6f869822ee1"
  },
  {
   "cell_type": "code",
   "id": "5ca32780fa3c4a6f",
   "metadata": {},
   "source": [
    "import matplotlib.pyplot as plt\n",
    "from Core.Detection import Detection\n",
    "from Core.Corner import Corner\n",
    "from Core.interface import output, parseSingleInput, parseSingleInputHeterogeneous, Point\n",
    "from Core.Connection import Connect\n",
    "from Core.Utils import g_view_detail_hetero\n",
    "from Core.GCN import GCNClassifier\n",
    "from Core.ImageManager import Manager\n",
    "# from Core.ocr import OCR\n",
    "from Core.Utils import plot_result\n",
    "import warnings\n",
    "\n",
    "warnings.filterwarnings(\"ignore\")"
   ],
   "outputs": [],
   "execution_count": null
  },
  {
   "cell_type": "markdown",
   "id": "8138c0d3e6086bbb",
   "metadata": {},
   "source": [
    "## Init Image"
   ]
  },
  {
   "cell_type": "code",
   "id": "9ec4f1f0d3b0504",
   "metadata": {},
   "source": [
    "# image_manager = Manager(r'C:\\Users\\PC\\Desktop\\public\\images\\058.png')\n",
    "image_manager = Manager(r'C:\\Users\\PC\\Desktop\\Circuit-Dataset\\images\\1.png')"
   ],
   "outputs": [],
   "execution_count": null
  },
  {
   "cell_type": "markdown",
   "id": "7df0ad92943147c9",
   "metadata": {},
   "source": [
    "## Yolov8 Pose"
   ]
  },
  {
   "cell_type": "code",
   "id": "b3b8a4d0a530103c",
   "metadata": {},
   "source": "detector = Detection(model_path='./checkpoints/best-tuned.onnx')",
   "outputs": [],
   "execution_count": null
  },
  {
   "cell_type": "code",
   "id": "f695613b47259b4e",
   "metadata": {},
   "source": [
    "results = detector.predict(image=image_manager.image, conf=0.6, iou=0.5, imgsz=1024, draw=True)\n",
    "line_width = detector.find_line_widths(results, image_manager.binary_image)\n",
    "results = detector.fix(results, image_manager.binary_image, move2closest=True, find_pose=True, is_draw=True,\n",
    "                       image=image_manager.image)\n",
    "results, pose, mode = detector.results2custom(results, image_manager.binary_image)"
   ],
   "outputs": [],
   "execution_count": null
  },
  {
   "cell_type": "code",
   "id": "943973d44046f1e7",
   "metadata": {},
   "source": [
    "print(results)"
   ],
   "outputs": [],
   "execution_count": null
  },
  {
   "metadata": {},
   "cell_type": "code",
   "source": [
    "plt.imshow(image_manager.binary_image, cmap='gray')\n",
    "plt.show()"
   ],
   "id": "43c9f20ef431bf79",
   "outputs": [],
   "execution_count": null
  },
  {
   "metadata": {},
   "cell_type": "markdown",
   "source": "## OCR",
   "id": "a6494af5e337a0a7"
  },
  {
   "metadata": {},
   "cell_type": "code",
   "source": [
    "# ocr_detector = OCR()\n",
    "# ocr_result = ocr_detector.predict(image_manager, scale=0.8, conf=0.8, is_draw=True)\n",
    "ocr_result = []"
   ],
   "id": "423ca8344bda3e3d",
   "outputs": [],
   "execution_count": null
  },
  {
   "cell_type": "markdown",
   "id": "b9eb75297b151d4f",
   "metadata": {},
   "source": [
    "## HoughLines + DBSCAN"
   ]
  },
  {
   "cell_type": "code",
   "id": "6cc77550fef53592",
   "metadata": {},
   "source": [
    "print(line_width)\n",
    "corner_detector = Corner(image_manager=image_manager)\n",
    "\n",
    "alg = ['Harris', 'Shi-Tomasi', 'ORB', 'SIFT', 'BRISK']\n",
    "# alg = ['Hough']\n",
    "corner = corner_detector.predict(draw=True, threshold=100, results=results + ocr_result, line_width=line_width,\n",
    "                                 algorithm=alg)\n",
    "print(corner)"
   ],
   "outputs": [],
   "execution_count": null
  },
  {
   "cell_type": "markdown",
   "id": "899e38b3d7b04c1c",
   "metadata": {},
   "source": [
    "## Build Graph"
   ]
  },
  {
   "cell_type": "code",
   "id": "cc3d0cca47b2844b",
   "metadata": {},
   "source": [
    "corner += pose\n",
    "corner_detector.plot(corner)"
   ],
   "outputs": [],
   "execution_count": null
  },
  {
   "metadata": {},
   "cell_type": "code",
   "source": "corner_detector.plot(pose)",
   "id": "8409ed34d96f65d6",
   "outputs": [],
   "execution_count": null
  },
  {
   "cell_type": "code",
   "id": "9891cb91bb0cc1f2",
   "metadata": {},
   "source": [
    "graph_builder = Connect(corner=corner, binary_image=image_manager.binary_image, results=results, mode=mode)"
   ],
   "outputs": [],
   "execution_count": null
  },
  {
   "cell_type": "code",
   "id": "d9c5790fe9665286",
   "metadata": {},
   "source": [
    "# for i in range(len(corner)):\n",
    "#     for j in range(i + 1, len(corner)):\n",
    "#         judge = graph_builder.is_connected(corner[i], corner[j], threshold=line_width * 2)\n",
    "#         if judge:\n",
    "#             print(f'{i}-{j} {judge}')"
   ],
   "outputs": [],
   "execution_count": null
  },
  {
   "cell_type": "code",
   "id": "1548daeb097dae59",
   "metadata": {},
   "source": [
    "corner = graph_builder.build_graph(threshold=line_width * 2)\n",
    "corner_detector.plot(corner)"
   ],
   "outputs": [],
   "execution_count": null
  },
  {
   "cell_type": "markdown",
   "id": "e26be491caf20276",
   "metadata": {},
   "source": [
    "## Output"
   ]
  },
  {
   "cell_type": "code",
   "id": "eda523e71a2c309e",
   "metadata": {},
   "source": [
    "net = output(corner)\n",
    "print(net)"
   ],
   "outputs": [],
   "execution_count": null
  },
  {
   "cell_type": "markdown",
   "id": "fe4e202a2a5c3211",
   "metadata": {},
   "source": [
    "## GCN/GCN Hetero"
   ]
  },
  {
   "cell_type": "code",
   "id": "a92f63626d2a1b7a",
   "metadata": {},
   "source": [
    "is_hetero = False\n",
    "if is_hetero:\n",
    "    graph = parseSingleInputHeterogeneous(net)\n",
    "    g_view_detail_hetero(graph.cpu())\n",
    "    circuit_type = GCNClassifier('./checkpoints/GCNHetero.pt').val(graph)\n",
    "else:\n",
    "    graph = parseSingleInput(net)\n",
    "    g_view_detail_hetero(graph.cpu())\n",
    "    circuit_type = GCNClassifier('./checkpoints/GCN.pt').val(graph)\n",
    "print(circuit_type)"
   ],
   "outputs": [],
   "execution_count": null
  },
  {
   "cell_type": "markdown",
   "id": "82259e68b1a0656f",
   "metadata": {},
   "source": [
    "## Full Output"
   ]
  },
  {
   "cell_type": "code",
   "id": "7a225b5101a8d937",
   "metadata": {},
   "source": [
    "result = {\n",
    "    \"ckt_type\": circuit_type,\n",
    "    'ckt_netlist': net\n",
    "}\n",
    "# with open('output.txt', 'w') as f:\n",
    "#     json.dump(result, f)\n",
    "print(result)"
   ],
   "outputs": [],
   "execution_count": null
  },
  {
   "cell_type": "markdown",
   "id": "3bc7e2abf9c6ce4a",
   "metadata": {},
   "source": [
    "## Plot All Result"
   ]
  },
  {
   "cell_type": "code",
   "id": "c7f126f8df485da3",
   "metadata": {},
   "source": [
    "plot_result(corner, circuit_type, image_manager.image)"
   ],
   "outputs": [],
   "execution_count": null
  },
  {
   "metadata": {},
   "cell_type": "code",
   "source": "",
   "id": "9fa8288d3761fd14",
   "outputs": [],
   "execution_count": null
  }
 ],
 "metadata": {
  "kernelspec": {
   "display_name": "Python 3 (ipykernel)",
   "language": "python",
   "name": "python3"
  },
  "language_info": {
   "codemirror_mode": {
    "name": "ipython",
    "version": 3
   },
   "file_extension": ".py",
   "mimetype": "text/x-python",
   "name": "python",
   "nbconvert_exporter": "python",
   "pygments_lexer": "ipython3",
   "version": "3.10.11"
  }
 },
 "nbformat": 4,
 "nbformat_minor": 5
}
